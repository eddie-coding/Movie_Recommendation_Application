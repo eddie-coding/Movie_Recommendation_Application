{
 "cells": [
  {
   "cell_type": "code",
   "execution_count": null,
   "metadata": {
    "colab": {},
    "colab_type": "code",
    "id": "WpRRLAE2Kj6a"
   },
   "outputs": [],
   "source": [
    "import pandas as pd\n",
    "import numpy as np"
   ]
  },
  {
   "cell_type": "code",
   "execution_count": null,
   "metadata": {
    "colab": {},
    "colab_type": "code",
    "id": "6uYOmDTBU4dq"
   },
   "outputs": [],
   "source": [
    "procsd_movie_df=pd.read_csv('movies-processed.csv')"
   ]
  },
  {
   "cell_type": "code",
   "execution_count": null,
   "metadata": {
    "colab": {
     "base_uri": "https://localhost:8080/",
     "height": 289
    },
    "colab_type": "code",
    "id": "PTYwnPURV1hk",
    "outputId": "c139774f-df7d-4386-fa4d-5296f5a8878c"
   },
   "outputs": [
    {
     "data": {
      "text/html": [
       "<div>\n",
       "<style scoped>\n",
       "    .dataframe tbody tr th:only-of-type {\n",
       "        vertical-align: middle;\n",
       "    }\n",
       "\n",
       "    .dataframe tbody tr th {\n",
       "        vertical-align: top;\n",
       "    }\n",
       "\n",
       "    .dataframe thead th {\n",
       "        text-align: right;\n",
       "    }\n",
       "</style>\n",
       "<table border=\"1\" class=\"dataframe\">\n",
       "  <thead>\n",
       "    <tr style=\"text-align: right;\">\n",
       "      <th></th>\n",
       "      <th>genres</th>\n",
       "      <th>id</th>\n",
       "      <th>keywords</th>\n",
       "      <th>title</th>\n",
       "      <th>overview</th>\n",
       "      <th>cast</th>\n",
       "      <th>director</th>\n",
       "    </tr>\n",
       "  </thead>\n",
       "  <tbody>\n",
       "    <tr>\n",
       "      <th>0</th>\n",
       "      <td>['action', 'adventure', 'fantasy']</td>\n",
       "      <td>19995</td>\n",
       "      <td>['cultureclash', 'future', 'spacewar']</td>\n",
       "      <td>avatar</td>\n",
       "      <td>In the 22nd century, a paraplegic Marine is di...</td>\n",
       "      <td>['samworthington', 'zoesaldana', 'sigourneywea...</td>\n",
       "      <td>jamescameron</td>\n",
       "    </tr>\n",
       "    <tr>\n",
       "      <th>1</th>\n",
       "      <td>['adventure', 'fantasy', 'action']</td>\n",
       "      <td>285</td>\n",
       "      <td>['ocean', 'drugabuse', 'exoticisland']</td>\n",
       "      <td>pirates of the caribbean: at world's end</td>\n",
       "      <td>Captain Barbossa, long believed to be dead, ha...</td>\n",
       "      <td>['johnnydepp', 'orlandobloom', 'keiraknightley']</td>\n",
       "      <td>goreverbinski</td>\n",
       "    </tr>\n",
       "    <tr>\n",
       "      <th>2</th>\n",
       "      <td>['action', 'adventure', 'crime']</td>\n",
       "      <td>206647</td>\n",
       "      <td>['spy', 'basedonnovel', 'secretagent']</td>\n",
       "      <td>spectre</td>\n",
       "      <td>A cryptic message from Bond’s past sends him o...</td>\n",
       "      <td>['danielcraig', 'christophwaltz', 'léaseydoux']</td>\n",
       "      <td>sammendes</td>\n",
       "    </tr>\n",
       "    <tr>\n",
       "      <th>3</th>\n",
       "      <td>['action', 'crime', 'drama']</td>\n",
       "      <td>49026</td>\n",
       "      <td>['dccomics', 'crimefighter', 'terrorist']</td>\n",
       "      <td>the dark knight rises</td>\n",
       "      <td>Following the death of District Attorney Harve...</td>\n",
       "      <td>['christianbale', 'michaelcaine', 'garyoldman']</td>\n",
       "      <td>christophernolan</td>\n",
       "    </tr>\n",
       "    <tr>\n",
       "      <th>4</th>\n",
       "      <td>['action', 'adventure', 'sciencefiction']</td>\n",
       "      <td>49529</td>\n",
       "      <td>['basedonnovel', 'mars', 'medallion']</td>\n",
       "      <td>john carter</td>\n",
       "      <td>John Carter is a war-weary, former military ca...</td>\n",
       "      <td>['taylorkitsch', 'lynncollins', 'samanthamorton']</td>\n",
       "      <td>andrewstanton</td>\n",
       "    </tr>\n",
       "  </tbody>\n",
       "</table>\n",
       "</div>"
      ],
      "text/plain": [
       "                                      genres  ...          director\n",
       "0         ['action', 'adventure', 'fantasy']  ...      jamescameron\n",
       "1         ['adventure', 'fantasy', 'action']  ...     goreverbinski\n",
       "2           ['action', 'adventure', 'crime']  ...         sammendes\n",
       "3               ['action', 'crime', 'drama']  ...  christophernolan\n",
       "4  ['action', 'adventure', 'sciencefiction']  ...     andrewstanton\n",
       "\n",
       "[5 rows x 7 columns]"
      ]
     },
     "execution_count": 25,
     "metadata": {
      "tags": []
     },
     "output_type": "execute_result"
    }
   ],
   "source": [
    "procsd_movie_df.head()"
   ]
  },
  {
   "cell_type": "code",
   "execution_count": null,
   "metadata": {
    "colab": {},
    "colab_type": "code",
    "id": "1HhZ9pHEa5Kk"
   },
   "outputs": [],
   "source": [
    "def combine_features(x):\n",
    "    return  ' '.join(x['keywords']) + ' ' + ' '.join(x['cast']) + ' ' + str(x['director']) + ' ' + ' '.join(x['genres'])\n",
    "procsd_movie_df['combined'] = procsd_movie_df.apply(combine_features, axis=1)"
   ]
  },
  {
   "cell_type": "code",
   "execution_count": null,
   "metadata": {
    "colab": {
     "base_uri": "https://localhost:8080/",
     "height": 323
    },
    "colab_type": "code",
    "id": "UMU0-tEXXSWi",
    "outputId": "d095e079-e6ea-4c63-fd9c-30131b27f7fd"
   },
   "outputs": [
    {
     "data": {
      "text/html": [
       "<div>\n",
       "<style scoped>\n",
       "    .dataframe tbody tr th:only-of-type {\n",
       "        vertical-align: middle;\n",
       "    }\n",
       "\n",
       "    .dataframe tbody tr th {\n",
       "        vertical-align: top;\n",
       "    }\n",
       "\n",
       "    .dataframe thead th {\n",
       "        text-align: right;\n",
       "    }\n",
       "</style>\n",
       "<table border=\"1\" class=\"dataframe\">\n",
       "  <thead>\n",
       "    <tr style=\"text-align: right;\">\n",
       "      <th></th>\n",
       "      <th>genres</th>\n",
       "      <th>id</th>\n",
       "      <th>keywords</th>\n",
       "      <th>title</th>\n",
       "      <th>overview</th>\n",
       "      <th>cast</th>\n",
       "      <th>director</th>\n",
       "      <th>combined</th>\n",
       "    </tr>\n",
       "  </thead>\n",
       "  <tbody>\n",
       "    <tr>\n",
       "      <th>0</th>\n",
       "      <td>['action', 'adventure', 'fantasy']</td>\n",
       "      <td>19995</td>\n",
       "      <td>['cultureclash', 'future', 'spacewar']</td>\n",
       "      <td>avatar</td>\n",
       "      <td>In the 22nd century, a paraplegic Marine is di...</td>\n",
       "      <td>['samworthington', 'zoesaldana', 'sigourneywea...</td>\n",
       "      <td>jamescameron</td>\n",
       "      <td>[ ' c u l t u r e c l a s h ' ,   ' f u t u r ...</td>\n",
       "    </tr>\n",
       "    <tr>\n",
       "      <th>1</th>\n",
       "      <td>['adventure', 'fantasy', 'action']</td>\n",
       "      <td>285</td>\n",
       "      <td>['ocean', 'drugabuse', 'exoticisland']</td>\n",
       "      <td>pirates of the caribbean: at world's end</td>\n",
       "      <td>Captain Barbossa, long believed to be dead, ha...</td>\n",
       "      <td>['johnnydepp', 'orlandobloom', 'keiraknightley']</td>\n",
       "      <td>goreverbinski</td>\n",
       "      <td>[ ' o c e a n ' ,   ' d r u g a b u s e ' ,   ...</td>\n",
       "    </tr>\n",
       "    <tr>\n",
       "      <th>2</th>\n",
       "      <td>['action', 'adventure', 'crime']</td>\n",
       "      <td>206647</td>\n",
       "      <td>['spy', 'basedonnovel', 'secretagent']</td>\n",
       "      <td>spectre</td>\n",
       "      <td>A cryptic message from Bond’s past sends him o...</td>\n",
       "      <td>['danielcraig', 'christophwaltz', 'léaseydoux']</td>\n",
       "      <td>sammendes</td>\n",
       "      <td>[ ' s p y ' ,   ' b a s e d o n n o v e l ' , ...</td>\n",
       "    </tr>\n",
       "    <tr>\n",
       "      <th>3</th>\n",
       "      <td>['action', 'crime', 'drama']</td>\n",
       "      <td>49026</td>\n",
       "      <td>['dccomics', 'crimefighter', 'terrorist']</td>\n",
       "      <td>the dark knight rises</td>\n",
       "      <td>Following the death of District Attorney Harve...</td>\n",
       "      <td>['christianbale', 'michaelcaine', 'garyoldman']</td>\n",
       "      <td>christophernolan</td>\n",
       "      <td>[ ' d c c o m i c s ' ,   ' c r i m e f i g h ...</td>\n",
       "    </tr>\n",
       "    <tr>\n",
       "      <th>4</th>\n",
       "      <td>['action', 'adventure', 'sciencefiction']</td>\n",
       "      <td>49529</td>\n",
       "      <td>['basedonnovel', 'mars', 'medallion']</td>\n",
       "      <td>john carter</td>\n",
       "      <td>John Carter is a war-weary, former military ca...</td>\n",
       "      <td>['taylorkitsch', 'lynncollins', 'samanthamorton']</td>\n",
       "      <td>andrewstanton</td>\n",
       "      <td>[ ' b a s e d o n n o v e l ' ,   ' m a r s ' ...</td>\n",
       "    </tr>\n",
       "  </tbody>\n",
       "</table>\n",
       "</div>"
      ],
      "text/plain": [
       "                                      genres  ...                                           combined\n",
       "0         ['action', 'adventure', 'fantasy']  ...  [ ' c u l t u r e c l a s h ' ,   ' f u t u r ...\n",
       "1         ['adventure', 'fantasy', 'action']  ...  [ ' o c e a n ' ,   ' d r u g a b u s e ' ,   ...\n",
       "2           ['action', 'adventure', 'crime']  ...  [ ' s p y ' ,   ' b a s e d o n n o v e l ' , ...\n",
       "3               ['action', 'crime', 'drama']  ...  [ ' d c c o m i c s ' ,   ' c r i m e f i g h ...\n",
       "4  ['action', 'adventure', 'sciencefiction']  ...  [ ' b a s e d o n n o v e l ' ,   ' m a r s ' ...\n",
       "\n",
       "[5 rows x 8 columns]"
      ]
     },
     "execution_count": 27,
     "metadata": {
      "tags": []
     },
     "output_type": "execute_result"
    }
   ],
   "source": [
    "procsd_movie_df.head()"
   ]
  },
  {
   "cell_type": "code",
   "execution_count": null,
   "metadata": {
    "colab": {},
    "colab_type": "code",
    "id": "qX7ZQXfBXWIe"
   },
   "outputs": [],
   "source": [
    "from sklearn.feature_extraction.text import CountVectorizer\n",
    "\n",
    "cv = CountVectorizer(stop_words='english')\n",
    "count_matrix = cv.fit_transform(procsd_movie_df['combined'])"
   ]
  },
  {
   "cell_type": "code",
   "execution_count": null,
   "metadata": {
    "colab": {
     "base_uri": "https://localhost:8080/",
     "height": 51
    },
    "colab_type": "code",
    "id": "ngA3dBmNf8kH",
    "outputId": "40fa3657-89e9-4e41-ba06-a44b836d4b98"
   },
   "outputs": [
    {
     "data": {
      "text/plain": [
       "<4803x2470 sparse matrix of type '<class 'numpy.int64'>'\n",
       "\twith 5044 stored elements in Compressed Sparse Row format>"
      ]
     },
     "execution_count": 29,
     "metadata": {
      "tags": []
     },
     "output_type": "execute_result"
    }
   ],
   "source": [
    "count_matrix"
   ]
  },
  {
   "cell_type": "code",
   "execution_count": null,
   "metadata": {
    "colab": {
     "base_uri": "https://localhost:8080/",
     "height": 34
    },
    "colab_type": "code",
    "id": "xC70fhYmgRrA",
    "outputId": "d6501a74-8fa7-40eb-f4f8-c6441ab2bcf6"
   },
   "outputs": [
    {
     "data": {
      "text/plain": [
       "(4803, 2470)"
      ]
     },
     "execution_count": 30,
     "metadata": {
      "tags": []
     },
     "output_type": "execute_result"
    }
   ],
   "source": [
    "count_matrix.shape"
   ]
  },
  {
   "cell_type": "code",
   "execution_count": null,
   "metadata": {
    "colab": {},
    "colab_type": "code",
    "id": "-07YGwfbgihu"
   },
   "outputs": [],
   "source": [
    "from sklearn.metrics.pairwise import cosine_similarity\n",
    "\n",
    "sim = cosine_similarity(count_matrix, count_matrix)"
   ]
  },
  {
   "cell_type": "code",
   "execution_count": null,
   "metadata": {
    "colab": {
     "base_uri": "https://localhost:8080/",
     "height": 34
    },
    "colab_type": "code",
    "id": "HSnrRIP-g02o",
    "outputId": "d002ee73-840c-41b2-c23d-8cf1e6f60604"
   },
   "outputs": [
    {
     "data": {
      "text/plain": [
       "(4803, 4803)"
      ]
     },
     "execution_count": 32,
     "metadata": {
      "tags": []
     },
     "output_type": "execute_result"
    }
   ],
   "source": [
    "sim.shape"
   ]
  },
  {
   "cell_type": "code",
   "execution_count": null,
   "metadata": {},
   "outputs": [],
   "source": [
    "procsd_movie_df.to_csv('movies-features-combined.csv',index=False)"
   ]
  }
 ],
 "metadata": {
  "accelerator": "GPU",
  "colab": {
   "collapsed_sections": [],
   "name": "Content-Based_Recomendation(Cast,Crew,Genres).ipynb",
   "provenance": []
  },
  "kernelspec": {
   "display_name": "Python 3",
   "language": "python",
   "name": "python3"
  },
  "language_info": {
   "codemirror_mode": {
    "name": "ipython",
    "version": 3
   },
   "file_extension": ".py",
   "mimetype": "text/x-python",
   "name": "python",
   "nbconvert_exporter": "python",
   "pygments_lexer": "ipython3",
   "version": "3.7.3"
  }
 },
 "nbformat": 4,
 "nbformat_minor": 1
}
